{
 "cells": [
  {
   "cell_type": "markdown",
   "metadata": {},
   "source": [
    "# マネックス証券サイトへログイン"
   ]
  },
  {
   "cell_type": "code",
   "execution_count": 21,
   "metadata": {},
   "outputs": [],
   "source": [
    "import os\n",
    "from selenium import webdriver\n",
    "from selenium.webdriver.chrome.service import Service\n",
    "from selenium.webdriver.common.by import By\n",
    "from selenium.webdriver.support.ui import WebDriverWait\n",
    "from selenium.webdriver.support import expected_conditions as EC\n",
    "\n",
    "from dotenv import load_dotenv"
   ]
  },
  {
   "cell_type": "code",
   "execution_count": 22,
   "metadata": {},
   "outputs": [
    {
     "data": {
      "text/plain": [
       "'https://mxp1.monex.co.jp/pc/ITS/login/LoginIDPassword.jsp'"
      ]
     },
     "execution_count": 22,
     "metadata": {},
     "output_type": "execute_result"
    }
   ],
   "source": [
    "# .envファイルから環境変数を読み込む\n",
    "load_dotenv()\n",
    "\n",
    "# 環境変数からログインIDとパスワードを取得\n",
    "login_id = os.environ['ID']\n",
    "password = os.environ['pass']\n",
    "login_url = os.environ['login_url']\n",
    "foreign_url = os.environ['foreign_url']\n",
    "\n",
    "login_url"
   ]
  },
  {
   "cell_type": "code",
   "execution_count": 23,
   "metadata": {},
   "outputs": [],
   "source": [
    "\n",
    "# Chromeオプションを設定\n",
    "chrome_options = webdriver.ChromeOptions()\n",
    "chrome_options.add_argument(\"--headless\")  # ヘッドレスモードで実行\n",
    "chrome_options.add_argument(\"--start-maximized\")\n",
    "\n",
    "# # WebDriverを初期化\n",
    "driver = webdriver.Chrome()\n",
    "\n",
    "# ログインページにアクセス\n",
    "driver.get(login_url)\n",
    "\n",
    "# ログインIDとパスワードを入力\n",
    "WebDriverWait(driver, 10).until(\n",
    "    EC.presence_of_element_located((By.NAME, \"loginid\"))\n",
    ").send_keys(login_id)\n",
    "WebDriverWait(driver, 10).until(\n",
    "    EC.presence_of_element_located((By.NAME, \"passwd\"))\n",
    ").send_keys(password)\n",
    "\n",
    "import time\n",
    "time.sleep(1)\n",
    "# ログインボタンをクリック\n",
    "WebDriverWait(driver, 10).until(\n",
    "    EC.element_to_be_clickable((By.XPATH, \"//input[@type='submit' and @value='ログイン' and @class='text-button ml-100']\"))\n",
    ").click()\n",
    "\n",
    "# 必要に応じて、ログイン後の処理を追加\n",
    "# 例: ログイン成功を確認するためのコードなど\n",
    "\n"
   ]
  },
  {
   "cell_type": "code",
   "execution_count": 24,
   "metadata": {},
   "outputs": [],
   "source": [
    "# <米国株･中国株ボタンをクリック\n",
    "driver.get(foreign_url)\n"
   ]
  },
  {
   "cell_type": "code",
   "execution_count": 25,
   "metadata": {},
   "outputs": [],
   "source": [
    "# 特定のhrefを持つ要素を取得\n",
    "element = WebDriverWait(driver, 10).until(\n",
    "    EC.presence_of_element_located((By.XPATH, '//a[@href=\"https://webtrading.monex.tradestation.com/\"]'))\n",
    ")\n",
    "\n",
    "# JavaScriptを使用して要素をクリック\n",
    "driver.execute_script(\"arguments[0].click();\", element)\n"
   ]
  },
  {
   "cell_type": "code",
   "execution_count": 26,
   "metadata": {},
   "outputs": [],
   "source": [
    "# ドライバーを終了\n",
    "driver.quit()"
   ]
  }
 ],
 "metadata": {
  "kernelspec": {
   "display_name": "selenium_stock_market",
   "language": "python",
   "name": "python3"
  },
  "language_info": {
   "codemirror_mode": {
    "name": "ipython",
    "version": 3
   },
   "file_extension": ".py",
   "mimetype": "text/x-python",
   "name": "python",
   "nbconvert_exporter": "python",
   "pygments_lexer": "ipython3",
   "version": "3.11.10"
  }
 },
 "nbformat": 4,
 "nbformat_minor": 2
}
