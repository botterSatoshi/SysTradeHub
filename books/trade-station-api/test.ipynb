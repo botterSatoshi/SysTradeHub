{
 "cells": [
  {
   "cell_type": "code",
   "execution_count": 44,
   "metadata": {},
   "outputs": [],
   "source": [
    "response = requests.post(\n",
    "    \"https://mxp2.monex.co.jp/pc/servlet/ITS/login/OpenApiAuthorization?attrSrcKey=b7c7b7189a4ba75b03\",\n",
    "    data=json.dumps({\"attrSrcKey\": \"b7c7b7189a4ba75b03\"}),\n",
    "    headers={\"content-type\":\"application/x-www-form-urlencoded\"}\n",
    ")"
   ]
  },
  {
   "cell_type": "code",
   "execution_count": null,
   "metadata": {},
   "outputs": [],
   "source": [
    "json_data = json.dumps(data)"
   ]
  },
  {
   "cell_type": "code",
   "execution_count": null,
   "metadata": {},
   "outputs": [],
   "source": [
    "header ={\n",
    "    \"accept\": \"*/*\",\n",
    "    \"accept-encoding\":\"gzip, deflate, br, zstd\",\n",
    "    \"accept-language\":\"ja,en-US;q=0.9,en;q=0.8\",\n",
    "    \"auth0-client\":\"eyJuYW1lIjoiYXV0aDAtc3BhLWpzIiwidmVyc2lvbiI6IjEuMjIuNCJ9\",\n",
    "    \"content-length\":\"229\",\n",
    "    \"content-type\":\"application/json\",\n",
    "    \"origin\":\"https://webtrading.monex.tradestation.com\",\n",
    "    \"priority\":\"u=1, i\",\n",
    "    \"referer\":\"https://webtrading.monex.tradestation.com/\",\n",
    "    \"sec-ch-ua\":\"'Google Chrome';v='129', 'Not=A?Brand';v='8', 'Chromium';v='129'\",\n",
    "    \"sec-ch-ua-mobile\":\"?0\",\n",
    "    \"sec-ch-ua-platform\": \"Windows\",\n",
    "    \"sec-fetch-dest\":\"empty\",\n",
    "    \"sec-fetch-mode\":\"cors\",\n",
    "    \"sec-fetch-site\":\"same-site\",\n",
    "    \"user-agent\":\"Mozilla/5.0 (Windows NT 10.0; Win64; x64)\"\n",
    "}\n",
    "\n",
    "header_data = json.dumps(header)"
   ]
  },
  {
   "cell_type": "code",
   "execution_count": null,
   "metadata": {},
   "outputs": [],
   "source": [
    "response = requests.post(\n",
    "    \"https://signin.tradestation.com/oauth/token\",\n",
    "    data=json_data,\n",
    "    headers=header\n",
    ")"
   ]
  },
  {
   "cell_type": "code",
   "execution_count": null,
   "metadata": {},
   "outputs": [
    {
     "name": "stdout",
     "output_type": "stream",
     "text": [
      "403\n"
     ]
    }
   ],
   "source": [
    "print(response.status_code)"
   ]
  },
  {
   "cell_type": "code",
   "execution_count": null,
   "metadata": {},
   "outputs": [
    {
     "name": "stdout",
     "output_type": "stream",
     "text": [
      "{'error': 'invalid_grant', 'error_description': 'Invalid authorization code'}\n"
     ]
    }
   ],
   "source": [
    "print(response.json())  "
   ]
  }
 ],
 "metadata": {
  "kernelspec": {
   "display_name": "pandas_and_plotly",
   "language": "python",
   "name": "python3"
  },
  "language_info": {
   "codemirror_mode": {
    "name": "ipython",
    "version": 3
   },
   "file_extension": ".py",
   "mimetype": "text/x-python",
   "name": "python",
   "nbconvert_exporter": "python",
   "pygments_lexer": "ipython3",
   "version": "3.9.19"
  }
 },
 "nbformat": 4,
 "nbformat_minor": 2
}
